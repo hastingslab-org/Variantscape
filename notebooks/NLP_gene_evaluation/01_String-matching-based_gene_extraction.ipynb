{
 "cells": [
  {
   "cell_type": "markdown",
   "id": "f6e09ddd",
   "metadata": {},
   "source": [
    "# String matching-based gene extraction"
   ]
  },
  {
   "cell_type": "markdown",
   "id": "732021a4",
   "metadata": {},
   "source": [
    "# 1) Install libraries and load dataset"
   ]
  },
  {
   "cell_type": "code",
   "execution_count": null,
   "id": "6e2c9f4d",
   "metadata": {},
   "outputs": [],
   "source": [
    "import os\n",
    "import re\n",
    "import time\n",
    "import pandas as pd\n",
    "from tqdm import tqdm\n",
    "from mygene import MyGeneInfo\n",
    "import matplotlib.pyplot as plt\n",
    "from fuzzywuzzy import process, fuzz\n",
    "print(\"Import successful!\")"
   ]
  },
  {
   "cell_type": "code",
   "execution_count": null,
   "id": "761c47ab",
   "metadata": {},
   "outputs": [],
   "source": [
    "# Set the working directory and file paths\n",
    "working_directory = \"WORKING_DIRECTORY\"\n",
    "input_directory = \"INPUT_DIRECTORY\"\n",
    "output_directory = \"OUTPUT_DIRECTORY\"\n",
    "articles_file = \"articles.csv\"\n",
    "genes_file = \"genes.csv\"\n",
    "\n",
    "# Change the working directory\n",
    "os.chdir(output_directory)\n",
    "print(\"Current Working Directory:\", os.getcwd())"
   ]
  },
  {
   "cell_type": "code",
   "execution_count": null,
   "id": "0d96bb14",
   "metadata": {
    "scrolled": true
   },
   "outputs": [],
   "source": [
    "#Load reference genes file\n",
    "os.chdir(input_directory)\n",
    "genes = pd.read_csv(genes_file, header=None)\n",
    "gene_list = genes[0].tolist()\n",
    "print(\"Genes import successful!\")\n",
    "\n",
    "# Load the articles file\n",
    "os.chdir(output_directory)\n",
    "if \"full_articles\" not in globals():\n",
    "    full_articles = pd.read_csv(articles_file)\n",
    "    print(f\"Loaded {len(full_articles)} articles from CSV.\")\n",
    "else:\n",
    "    print(\"Using preloaded full_articles from memory.\")\n",
    "articles = full_articles.head(100)\n",
    "print(\"Article import successful!\")\n",
    "print(f\"\\nImported {len(articles)} articles with {len(articles.columns)} selected columns.\")\n",
    "print(f\"Imported {len(gene_list):,} oncomine genes.\")\n",
    "\n",
    "# Get the number of rows and columns\n",
    "num_rows = articles.shape[0]\n",
    "num_columns = articles.shape[1]\n",
    "os.chdir(working_directory)\n",
    "print(\"\\nCurrent directory:\", os.getcwd())\n",
    "\n",
    "# Save datasubset for reference!\n",
    "os.chdir(working_directory)\n",
    "ICIMTH_output = \"ICIMTH_subset_data_file_for_analysis.csv\"\n",
    "articles.to_csv(ICIMTH_output)\n",
    "print(f\"\\n Subset dataset for analysis saved as '{ICIMTH_output}'\")"
   ]
  },
  {
   "cell_type": "markdown",
   "id": "69fd9eb9",
   "metadata": {},
   "source": [
    "# 2) Run string matching"
   ]
  },
  {
   "cell_type": "code",
   "execution_count": null,
   "id": "fc67fe50",
   "metadata": {
    "scrolled": false
   },
   "outputs": [],
   "source": [
    "gene_list = [gene.upper() for gene in gene_list]\n",
    "\n",
    "def extract_genes_exact_match(text, gene_list):\n",
    "    if pd.isna(text) or len(text.strip()) == 0:\n",
    "        return set()\n",
    "\n",
    "    matched_genes = set()\n",
    "    text_upper = text.upper()\n",
    "\n",
    "    for gene in gene_list:\n",
    "        if re.search(rf\"\\b{re.escape(gene)}\\b\", text_upper):\n",
    "            matched_genes.add(gene)\n",
    "\n",
    "    return matched_genes\n",
    "\n",
    "start_time = time.strftime(\"%Y-%m-%d %H:%M:%S\")\n",
    "start_timestamp = time.time()\n",
    "\n",
    "print(f\"Processing {len(articles)} articles using exact string matching. Started at {start_time}\")\n",
    "\n",
    "all_results = []\n",
    "\n",
    "for index, row in tqdm(articles.iterrows(), total=len(articles), desc=\"Processing Articles\"):\n",
    "    title = row.get(\"PaperTitle\", \"\")\n",
    "    abstract = row.get(\"Abstract\", \"\")\n",
    "\n",
    "    extracted_entities = extract_genes_exact_match(title, gene_list) | extract_genes_exact_match(abstract, gene_list)\n",
    "\n",
    "    all_results.append(\", \".join(extracted_entities))\n",
    "\n",
    "df_results = articles.copy()\n",
    "df_results[\"String_Matching\"] = all_results\n",
    "\n",
    "df_results[\"Extracted_Entities\"] = df_results[\"String_Matching\"].apply(lambda x: x.split(\", \") if isinstance(x, str) else [])\n",
    "binary_entity_data = {gene: df_results[\"Extracted_Entities\"].apply(lambda entities: 1 if gene in entities else 0) for gene in gene_list}\n",
    "binary_entity_df = pd.DataFrame(binary_entity_data)\n",
    "df_results = pd.concat([df_results, binary_entity_df], axis=1)\n",
    "df_results[\"Sum_Entity_Mentions\"] = binary_entity_df.sum(axis=1)\n",
    "\n",
    "binary_output_file = \"string_matching_entity_binary_matrix.csv\"\n",
    "df_results.drop(columns=[\"Extracted_Entities\"], errors=\"ignore\").to_csv(binary_output_file, index=False)\n",
    "print(f\"Binary matrix saved as: {binary_output_file}\")\n",
    "\n",
    "summary_results = df_results[\"Sum_Entity_Mentions\"].sum()\n",
    "print(f\"\\n### Extraction Summary ###\\nTotal Gene Mentions: {summary_results}\")\n",
    "\n",
    "summary_file = \"string_matching_entity_extraction_summary.txt\"\n",
    "with open(summary_file, \"w\") as f:\n",
    "    f.write(f\"### Extraction Summary ###\\nTotal Gene Mentions: {summary_results}\\n\")\n",
    "\n",
    "print(f\"Extraction summary saved in: {summary_file}\")\n",
    "\n",
    "evaluation_results_file = \"string_matching_evaluation_results.csv\"\n",
    "df_results.drop(columns=[\"Extracted_Entities\"], errors=\"ignore\").to_csv(evaluation_results_file, index=False)\n",
    "print(f\"Evaluation results saved in: {evaluation_results_file}\")"
   ]
  }
 ],
 "metadata": {
  "kernelspec": {
   "display_name": "llms",
   "language": "python",
   "name": "llms"
  },
  "language_info": {
   "codemirror_mode": {
    "name": "ipython",
    "version": 3
   },
   "file_extension": ".py",
   "mimetype": "text/x-python",
   "name": "python",
   "nbconvert_exporter": "python",
   "pygments_lexer": "ipython3",
   "version": "3.11.5"
  }
 },
 "nbformat": 4,
 "nbformat_minor": 5
}
