{
 "cells": [
  {
   "cell_type": "markdown",
   "id": "3bbb9596",
   "metadata": {},
   "source": [
    "# Investigate gene mentions across publications\n",
    "- Calculate total gene mentions, most common gene mentions, gene mentions per article and average gene mentions\n",
    "- Create output figures\n",
    "- Investigate articles with very high number of gene mentions (>= 20 genes per article)"
   ]
  },
  {
   "cell_type": "markdown",
   "id": "d39dc0fe",
   "metadata": {},
   "source": [
    "## 1) Load libraries and datasets"
   ]
  },
  {
   "cell_type": "code",
   "execution_count": null,
   "id": "a3a82ee5",
   "metadata": {},
   "outputs": [],
   "source": [
    "import os\n",
    "import time\n",
    "import datetime\n",
    "import numpy as np\n",
    "import pandas as pd\n",
    "import seaborn as sns\n",
    "import matplotlib as mpl\n",
    "from tqdm import tqdm\n",
    "import matplotlib.pyplot as plt\n",
    "import matplotlib.ticker as mtick\n",
    "print(\"Success!\")"
   ]
  },
  {
   "cell_type": "code",
   "execution_count": null,
   "id": "5152f377",
   "metadata": {},
   "outputs": [],
   "source": [
    "# Set the working directory and file paths\n",
    "output_directory = \"OUTPUT_DIRECTORY\"\n",
    "os.chdir(output_directory)\n",
    "print(\"Current Working Directory:\", os.getcwd())\n",
    "\n",
    "# Set the working directory and file paths\n",
    "genes_file = \"civic_genes.csv\"\n",
    "civic_df = pd.read_csv(genes_file, header=None)\n",
    "NER_gene_list = pd.read_csv(\"BioBERT_file.csv\")\n",
    "print(\"\\nTotal articles: {:,}\".format(len(NER_gene_list)))\n",
    "print(NER_gene_list)"
   ]
  },
  {
   "cell_type": "markdown",
   "id": "b7c942ea",
   "metadata": {},
   "source": [
    "## 2) Calculate gene mentions"
   ]
  },
  {
   "cell_type": "code",
   "execution_count": null,
   "id": "8f730f9a",
   "metadata": {
    "scrolled": true
   },
   "outputs": [],
   "source": [
    "# Get list of relevant gene columns from civic_df\n",
    "relevant_columns = civic_df.iloc[:, 0].tolist()\n",
    "total_articles = len(NER_gene_list)\n",
    "column_sums = NER_gene_list[relevant_columns].sum().sort_values(ascending=False)\n",
    "total_gene_mentions = column_sums.sum()\n",
    "column_sums_formatted = column_sums.apply(lambda x: f\"{x:,.0f} ({(x / total_gene_mentions * 100):.2f}%)\")\n",
    "gene_article_counts = (NER_gene_list[relevant_columns] > 0).sum().sort_values(ascending=False)\n",
    "gene_article_counts_formatted = gene_article_counts.apply(\n",
    "    lambda x: f\"{x:,} ({(x / total_articles * 100):.2f}%)\"\n",
    ")\n",
    "\n",
    "total_mentions = NER_gene_list['Sum_Gene_Mentions'].sum()\n",
    "average_mentions = NER_gene_list['Sum_Gene_Mentions'].mean()\n",
    "mentions_distribution = NER_gene_list['Sum_Gene_Mentions'].value_counts().sort_index()\n",
    "mentions_distribution_formatted = mentions_distribution.apply(\n",
    "    lambda x: f\"{x:,} ({(x / total_articles * 100):.2f}%)\"\n",
    ")\n",
    "\n",
    "# Ouput\n",
    "print(\"\\nTotal mentions per gene (with % of all gene mentions):\\n\")\n",
    "print(column_sums_formatted.to_string())\n",
    "\n",
    "print(\"\\nNumber of articles each gene appears in (with % of total articles):\\n\")\n",
    "print(gene_article_counts_formatted.to_string())\n",
    "\n",
    "print(\"\\nTop 10 genes by total mentions:\\n\")\n",
    "print(column_sums_formatted.head(10).to_string())\n",
    "\n",
    "print(\"\\nTop 10 genes by article count:\\n\")\n",
    "print(gene_article_counts_formatted.head(10).to_string())\n",
    "\n",
    "print(\"\\nTotal number of articles: {:,}\".format(total_articles))\n",
    "print(\"Total sum of 'Sum_Gene_Mentions': {:,}\".format(total_mentions))\n",
    "print(\"Average gene mentions per article: {:,.2f}\".format(average_mentions))\n",
    "\n",
    "print(\"\\nDistribution of gene mentions per article (with % of total articles):\\n\")\n",
    "print(mentions_distribution_formatted.to_string())"
   ]
  },
  {
   "cell_type": "markdown",
   "id": "c643ae9d",
   "metadata": {},
   "source": [
    "## 3) Create figure and overview of gene mentions"
   ]
  },
  {
   "cell_type": "code",
   "execution_count": null,
   "id": "c2ec8161",
   "metadata": {
    "scrolled": true
   },
   "outputs": [],
   "source": [
    "# Plot 1: Mentions of individual genes over time\n",
    "plt.style.use('seaborn-v0_8-muted')\n",
    "mpl.rcParams['font.size'] = 11\n",
    "mpl.rcParams['axes.titleweight'] = 'bold'\n",
    "gene_columns = civic_df.iloc[:, 0].tolist()\n",
    "mentions_by_year = NER_gene_list.groupby('PubYear')[gene_columns].sum()\n",
    "palette = sns.color_palette(\"husl\", len(gene_columns)) \n",
    "fig, ax = plt.subplots(figsize=(11,8))  \n",
    "for gene, color in zip(gene_columns, palette):\n",
    "    ax.plot(mentions_by_year.index, mentions_by_year[gene], label=gene, linewidth=2, color=color)\n",
    "ax.set_title(\"Mentions of individual genes over time\", fontsize=14, pad=20)\n",
    "ax.set_xlabel(\"Publication year\", fontsize=12)\n",
    "ax.set_ylabel(\"Number of mentions\", fontsize=12)\n",
    "ax.legend(title=\"Gene\", loc='upper left', fontsize=9, title_fontsize=10, frameon=False)\n",
    "ax.grid(axis='y', linestyle='--', alpha=0.6)\n",
    "fig.tight_layout()\n",
    "fig.savefig(\"plot1_mentions_over_time.png\", dpi=300, bbox_inches='tight')\n",
    "print(\"Plot 1 saved as: plot1_mentions_over_time.png\")\n",
    "plt.show()"
   ]
  },
  {
   "cell_type": "code",
   "execution_count": null,
   "id": "4b9d5ca3",
   "metadata": {},
   "outputs": [],
   "source": [
    "# Plot 2: Distribution of genes mentioned per article over time\n",
    "plt.style.use('seaborn-v0_8-muted')\n",
    "mpl.rcParams['font.size'] = 11\n",
    "mpl.rcParams['axes.titleweight'] = 'bold'\n",
    "gene_columns = civic_df.iloc[:, 0].tolist()\n",
    "NER_gene_list['Genes_Mentioned_Count'] = NER_gene_list[gene_columns].gt(0).sum(axis=1)\n",
    "mentions_over_time = (\n",
    "    NER_gene_list.groupby(['PubYear', 'Genes_Mentioned_Count'])\n",
    "    .size()\n",
    "    .reset_index(name='Article_Count')\n",
    ")\n",
    "mentions_pivot = mentions_over_time.pivot(index='PubYear', columns='Genes_Mentioned_Count', values='Article_Count').fillna(0)\n",
    "mentions_pivot = mentions_pivot[sorted(mentions_pivot.columns)]\n",
    "fig, ax = plt.subplots(figsize=(11, 8)) \n",
    "colors = sns.color_palette(\"YlGnBu\", n_colors=len(mentions_pivot.columns))\n",
    "mentions_pivot.plot(kind='bar', stacked=True, ax=ax, color=colors, edgecolor='black')\n",
    "ax.yaxis.set_major_formatter(mtick.FuncFormatter(lambda x, _: f'{int(x):,}'))\n",
    "total_articles = len(NER_gene_list)\n",
    "average_mentions = NER_gene_list['Sum_Gene_Mentions'].mean()\n",
    "ax.set_title(\"Distribution of genes mentioned per article over time\", fontsize=14, pad=15)\n",
    "ax.set_xlabel(\"Publication year\", fontsize=12)\n",
    "ax.set_ylabel(\"Number of articles\", fontsize=12)\n",
    "ax.set_xticklabels(ax.get_xticklabels(), rotation=45, ha='right')\n",
    "handles, labels = ax.get_legend_handles_labels()\n",
    "ax.legend(handles[::-1], labels[::-1], title=\"Genes per article\",\n",
    "          loc='upper left', fontsize=9, title_fontsize=10, frameon=False)\n",
    "ax.grid(axis='y', linestyle='--', alpha=0.6)\n",
    "fig.tight_layout(rect=[0, 0.05, 1, 0.95])\n",
    "fig.savefig(\"plot2_distribution_per_article.png\", dpi=300, bbox_inches='tight')\n",
    "print(\" Plot 2 saved as: plot2_distribution_per_article.png\")\n",
    "plt.show()"
   ]
  }
 ],
 "metadata": {
  "kernelspec": {
   "display_name": "llms",
   "language": "python",
   "name": "llms"
  },
  "language_info": {
   "codemirror_mode": {
    "name": "ipython",
    "version": 3
   },
   "file_extension": ".py",
   "mimetype": "text/x-python",
   "name": "python",
   "nbconvert_exporter": "python",
   "pygments_lexer": "ipython3",
   "version": "3.11.5"
  }
 },
 "nbformat": 4,
 "nbformat_minor": 5
}
