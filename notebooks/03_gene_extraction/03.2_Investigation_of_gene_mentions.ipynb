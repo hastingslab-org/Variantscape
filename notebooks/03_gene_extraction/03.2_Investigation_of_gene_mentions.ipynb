{
 "cells": [
  {
   "cell_type": "markdown",
   "id": "3bbb9596",
   "metadata": {},
   "source": [
    "# Investigate gene mentions across publications\n",
    "- Calculate total gene mentions, most common gene mentions, gene mentions per article and average gene mentions\n",
    "- Create output figures\n",
    "- Investigate articles with very high number of gene mentions (>= 20 genes per article)"
   ]
  },
  {
   "cell_type": "markdown",
   "id": "d39dc0fe",
   "metadata": {},
   "source": [
    "## 1) Load libraries and datasets"
   ]
  },
  {
   "cell_type": "code",
   "execution_count": null,
   "id": "a3a82ee5",
   "metadata": {},
   "outputs": [],
   "source": [
    "import os\n",
    "import time\n",
    "import datetime\n",
    "import pandas as pd\n",
    "from tqdm import tqdm\n",
    "import matplotlib.pyplot as plt\n",
    "import matplotlib.ticker as mtick\n",
    "import seaborn as sns\n",
    "import numpy as np\n",
    "print(\"Success!\")"
   ]
  },
  {
   "cell_type": "code",
   "execution_count": null,
   "id": "ddea7fa4",
   "metadata": {},
   "outputs": [],
   "source": [
    "# Print current working directory\n",
    "print(\"Current Working Directory:\", os.getcwd())\n",
    "\n",
    "# Set the working directory and file paths\n",
    "input_directory = \"INPUT_DIRECTORY\"\n",
    "output_directory = \"OUTPUT_DIRECTORY\"\n",
    "\n",
    "# Change the working directory\n",
    "os.chdir(output_directory)\n",
    "print(\"Current Working Directory:\", os.getcwd())"
   ]
  },
  {
   "cell_type": "code",
   "execution_count": null,
   "id": "5152f377",
   "metadata": {
    "scrolled": true
   },
   "outputs": [],
   "source": [
    "# Read the CSV file\n",
    "NER_gene_list = pd.read_csv(\"cleaned_BioBERT_data.csv\")\n",
    "print(\"\\nTotal articles: {:,}\".format(len(NER_gene_list)))\n",
    "print(NER_gene_list)"
   ]
  },
  {
   "cell_type": "code",
   "execution_count": null,
   "id": "d0d3ccac",
   "metadata": {},
   "outputs": [],
   "source": [
    "os.chdir(input_directory)\n",
    "print(\"Current Working Directory:\", os.getcwd())\n",
    "oncomine_df = pd.read_csv(\"oncomine_ngs_panel.csv\", header=None)\n",
    "print(\"Oncomine DataFrame:\\n\", oncomine_df)\n",
    "print(\"Total Rows in oncomine_df:\", len(oncomine_df))\n",
    "\n",
    "# Change to output directory\n",
    "os.chdir(output_directory)\n",
    "print(\"Current Working Directory:\", os.getcwd())"
   ]
  },
  {
   "cell_type": "markdown",
   "id": "b7c942ea",
   "metadata": {},
   "source": [
    "## 2) Calculate gene mentions"
   ]
  },
  {
   "cell_type": "code",
   "execution_count": null,
   "id": "8f730f9a",
   "metadata": {},
   "outputs": [],
   "source": [
    "# Summing the columns specified in oncomine_df and ranking them\n",
    "relevant_columns = oncomine_df.iloc[:, 0].tolist()\n",
    "column_sums = NER_gene_list[relevant_columns].sum().sort_values(ascending=False)\n",
    "column_sums_formatted = column_sums.apply(lambda x: f\"{x:,.0f}\")\n",
    "\n",
    "total_mentions = NER_gene_list['Sum_Gene_Mentions'].sum()\n",
    "average_mentions = NER_gene_list['Sum_Gene_Mentions'].mean()\n",
    "\n",
    "mentions_distribution = NER_gene_list['Sum_Gene_Mentions'].value_counts().sort_index()\n",
    "\n",
    "mentions_distribution_formatted = mentions_distribution.apply(lambda x: f\"{x:,}\")\n",
    "\n",
    "print(\"\\nRanking of column sums from oncomine_df:\\n\")\n",
    "print(column_sums_formatted.to_string())\n",
    "\n",
    "print(\"\\nTop 10 genes mentioned the most:\\n\")\n",
    "print(column_sums_formatted.head(10).to_string())\n",
    "\n",
    "print(\"\\nTotal articles: {:,}\".format(len(NER_gene_list)))\n",
    "print(\"Total sum of 'Sum_Gene_Mentions': {:,}\".format(total_mentions))\n",
    "print(\"Average number of gene mentions per article: {:,.2f}\".format(average_mentions))\n",
    "\n",
    "print(\"\\nDistribution of Sum_Gene_Mentions counts:\\n\")\n",
    "print(mentions_distribution_formatted.to_string())"
   ]
  },
  {
   "cell_type": "markdown",
   "id": "c643ae9d",
   "metadata": {},
   "source": [
    "## 3) Create figure and overview of gene mentions"
   ]
  },
  {
   "cell_type": "code",
   "execution_count": null,
   "id": "bb5ba801",
   "metadata": {},
   "outputs": [],
   "source": [
    "# Figure 1: Bar chart for ranking of summed relevant columns\n",
    "\n",
    "%matplotlib inline  \n",
    "fig, ax = plt.subplots(figsize=(14, 7))\n",
    "\n",
    "# Sorting and calculating percentages\n",
    "top_genes = column_sums.sort_values(ascending=False).head(15)\n",
    "total_articles = len(NER_gene_list)\n",
    "percentages = (top_genes / total_articles) * 100\n",
    "average_mentions = column_sums.sum() / total_articles \n",
    "\n",
    "# Color gradient\n",
    "colors = [plt.cm.Blues(1 - (i / len(top_genes))) for i in range(len(top_genes))]\n",
    "\n",
    "# Plot the bar chart\n",
    "bars = top_genes.plot(kind='bar', color=colors, edgecolor='black', ax=ax)\n",
    "ax.yaxis.set_major_formatter(mtick.FuncFormatter(lambda x, _: f'{int(x):,}'))\n",
    "ax.set_ylim(0, top_genes.max() * 1.2) \n",
    "for bar, value, percent in zip(bars.patches, top_genes, percentages):\n",
    "    ax.text(\n",
    "        bar.get_x() + bar.get_width() / 2, \n",
    "        bar.get_height() + (top_genes.max() * 0.04), \n",
    "        f\"{int(value):,}\\n({percent:.1f}%)\", \n",
    "        ha='center', va='bottom', fontsize=10, fontweight='bold', color='black'\n",
    "    )\n",
    "\n",
    "# Titles and labels in sentence case\n",
    "ax.set_title(f'Top 15 genes mentioned by articles (n={total_articles:,.0f} articles)', \n",
    "             fontsize=14, fontweight='bold', pad=15)\n",
    "ax.set_ylabel('Number of articles mentioning gene', fontsize=12)\n",
    "ax.set_xlabel('Gene (out of 161 Oncomine NGS panel)', fontsize=12)\n",
    "ax.set_xticklabels(ax.get_xticklabels(), rotation=45, ha='right')\n",
    "fig.tight_layout(rect=[0, 0.05, 1, 0.9])\n",
    "plt.show()"
   ]
  },
  {
   "cell_type": "code",
   "execution_count": null,
   "id": "ae292084",
   "metadata": {
    "scrolled": true
   },
   "outputs": [],
   "source": [
    "# Figure 2: Improved Plot for Sum_Gene_Mentions Distribution\n",
    "%matplotlib inline  \n",
    "fig, ax = plt.subplots(figsize=(12, 7))\n",
    "\n",
    "# Create bar plot with green gradient colors\n",
    "colors = sns.color_palette(\"Greens_r\", len(mentions_distribution))  \n",
    "ax = sns.barplot(x=mentions_distribution.index, y=mentions_distribution.values, \n",
    "                 palette=colors, edgecolor='black')\n",
    "ax.yaxis.set_major_formatter(mtick.FuncFormatter(lambda x, _: f'{int(x):,}'))\n",
    "ax.set_title(f'Distribution of gene mentions per article (n={total_articles:,.0f} articles)', \n",
    "             fontsize=14, fontweight='bold', pad=25)\n",
    "plt.figtext(0.5, 0.6, f'Average number of gene mentions per article: {average_mentions:,.2f}', \n",
    "            fontsize=12, color='gray', ha='center')\n",
    "ax.set_xlabel('Number of genes mentioned', fontsize=12, labelpad=10)\n",
    "ax.set_ylabel('Number of articles', fontsize=12)\n",
    "ax.set_xticks(range(len(mentions_distribution.index)))\n",
    "ax.set_xticklabels(mentions_distribution.index, rotation=45, ha='right', fontsize=10)\n",
    "ax.set_ylim(0, max(mentions_distribution.values) * 1.2)\n",
    "ax.grid(axis='y', linestyle='--', alpha=0.7)\n",
    "for bar, value in zip(ax.patches, mentions_distribution.values):\n",
    "    ax.text(\n",
    "        bar.get_x() + bar.get_width() / 2,  \n",
    "        bar.get_height() + (max(mentions_distribution.values) * 0.02),  \n",
    "        f\"{value:,}\",\n",
    "        ha='center', va='bottom', fontsize=9, fontweight='bold', color='black'\n",
    "    )\n",
    "fig.tight_layout(rect=[0, 0.05, 1, 0.85])\n",
    "plt.show()"
   ]
  },
  {
   "cell_type": "markdown",
   "id": "5be6cc71",
   "metadata": {},
   "source": [
    "## 4) Investigate high numbers of gene mentions in PaperTitle and Abstracts"
   ]
  },
  {
   "cell_type": "code",
   "execution_count": null,
   "id": "36b26c80",
   "metadata": {
    "scrolled": true
   },
   "outputs": [],
   "source": [
    "# Filter the dataset where 'Sum_Gene_Mentions' is greater than 20\n",
    "high_gene_mentions_df = NER_gene_list[NER_gene_list['Sum_Gene_Mentions'] > 20]\n",
    "\n",
    "high_gene_mentions_df = high_gene_mentions_df[['PaperTitle', 'Abstract', 'Sum_Gene_Mentions']]\n",
    "high_gene_mentions_df = high_gene_mentions_df.sort_values(by='Sum_Gene_Mentions', ascending=False)\n",
    "count_above_20 = len(high_gene_mentions_df)\n",
    "\n",
    "output_file = \"high_gene_mentions.txt\"\n",
    "\n",
    "with open(output_file, \"w\", encoding=\"utf-8\") as f:\n",
    "    f.write(f\"Total number of rows where Sum_Gene_Mentions > 20: {count_above_20}\\n\\n\")\n",
    "    f.write(high_gene_mentions_df.to_string(index=False))\n",
    "\n",
    "print(f\"\\nFiltered and sorted dataset saved to {output_file}\")\n",
    "print(f\"\\nTotal number of articles where Sum_Gene_Mentions > 20: {count_above_20} articles\\n\\n\")\n",
    "print(high_gene_mentions_df)"
   ]
  },
  {
   "cell_type": "markdown",
   "id": "9d737d88",
   "metadata": {},
   "source": [
    "#### Check dataset and varify all articles with high gene mentions"
   ]
  }
 ],
 "metadata": {
  "kernelspec": {
   "display_name": "llms",
   "language": "python",
   "name": "llms"
  },
  "language_info": {
   "codemirror_mode": {
    "name": "ipython",
    "version": 3
   },
   "file_extension": ".py",
   "mimetype": "text/x-python",
   "name": "python",
   "nbconvert_exporter": "python",
   "pygments_lexer": "ipython3",
   "version": "3.11.5"
  }
 },
 "nbformat": 4,
 "nbformat_minor": 5
}
