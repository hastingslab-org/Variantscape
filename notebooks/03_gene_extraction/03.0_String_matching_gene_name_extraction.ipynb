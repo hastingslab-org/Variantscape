{
 "cells": [
  {
   "cell_type": "markdown",
   "id": "e3451919",
   "metadata": {},
   "source": [
    "# String matching of genes with predefiend list (i.e., Oncomine v3)"
   ]
  },
  {
   "cell_type": "markdown",
   "id": "a8bc4c21",
   "metadata": {},
   "source": [
    "## 1) Install libraries and load datasets"
   ]
  },
  {
   "cell_type": "code",
   "execution_count": null,
   "id": "1da116d9",
   "metadata": {},
   "outputs": [],
   "source": [
    "import pandas as pd\n",
    "import os\n",
    "import re\n",
    "import time\n",
    "from tqdm import tqdm\n",
    "import time\n",
    "print(\"Success!\")"
   ]
  },
  {
   "cell_type": "code",
   "execution_count": null,
   "id": "761c47ab",
   "metadata": {},
   "outputs": [],
   "source": [
    "# Set the working directory and file paths\n",
    "input_directory = \"INPUT_DIRECTORY\"\n",
    "output_directory = \"OUTPUT_DIRECTORY\"\n",
    "articles_file = \"ARTICLE_FILE_OPENALEX.csv\"\n",
    "genes_file = \"GENE_FILE.csv\"\n",
    "os.chdir(input_directory)\n",
    "print(\"Current Working Directory:\", os.getcwd())"
   ]
  },
  {
   "cell_type": "code",
   "execution_count": null,
   "id": "9362ed0a",
   "metadata": {},
   "outputs": [],
   "source": [
    "# Load the articles file\n",
    "articles = pd.read_csv(articles_file)\n",
    "\n",
    "# Load the gene file\n",
    "genes = pd.read_csv(genes_file, header=None)\n",
    "gene_list = genes[0].tolist()"
   ]
  },
  {
   "cell_type": "code",
   "execution_count": null,
   "id": "65d5ab2c",
   "metadata": {
    "scrolled": true
   },
   "outputs": [],
   "source": [
    "# Change the working directory\n",
    "os.chdir(output_directory)\n",
    "print(\"Current Working Directory:\", os.getcwd())\n",
    "\n",
    "# Get the number of rows and columns\n",
    "num_rows = articles.shape[0]\n",
    "num_columns = articles.shape[1]\n",
    "print(f\"The articles df contains {num_rows:,} rows and {num_columns:,} columns.\")\n",
    "column_names = articles.columns.tolist()\n",
    "print(\"The column names in the articles df are:\")\n",
    "for col in column_names:\n",
    "    print(col)"
   ]
  },
  {
   "cell_type": "markdown",
   "id": "bfd57cf2",
   "metadata": {},
   "source": [
    "## 2) Perform string matching"
   ]
  },
  {
   "cell_type": "code",
   "execution_count": null,
   "id": "3c2a5b64",
   "metadata": {},
   "outputs": [],
   "source": [
    "######## String matching of genes ########\n",
    "start_time = time.time()\n",
    "\n",
    "# Create a DataFrame with all gene columns set to 0\n",
    "gene_columns_df = pd.DataFrame(0, index=articles.index, columns=gene_list)\n",
    "\n",
    "# Concatenate the gene columns to the original DataFrame\n",
    "articles = pd.concat([articles, gene_columns_df], axis=1)\n",
    "\n",
    "# Perform string matching on \"PaperTitle\" and \"Abstract\"\n",
    "for index, row in tqdm(articles.iterrows(), total=len(articles), desc=\"Processing rows\"):\n",
    "    title = row.get(\"PaperTitle\", \"\")\n",
    "    abstract = row.get(\"Abstract\", \"\")\n",
    "    text = f\"{title} {abstract}\"\n",
    "\n",
    "    for gene in gene_list:\n",
    "        pattern = r'\\b' + re.escape(gene) + r'\\b' \n",
    "        if re.search(pattern, text): \n",
    "            articles.at[index, gene] = 1\n",
    "\n",
    "# Add a column to store gene names where matches are found\n",
    "def find_matching_genes(row):\n",
    "    matched_genes = [gene for gene in gene_list if row[gene] == 1]\n",
    "    return \", \".join(matched_genes)\n",
    "\n",
    "articles['MatchedGenes'] = articles.apply(find_matching_genes, axis=1)\n",
    "\n",
    "# Add a column to count the total number of matched genes\n",
    "articles['MatchedGeneCount'] = articles[gene_list].sum(axis=1)\n",
    "\n",
    "# Filter rows where at least one gene match was found\n",
    "filtered_articles = articles[articles['MatchedGeneCount'] > 0]\n",
    "\n",
    "# Stop the timer and calculate total runtime\n",
    "end_time = time.time()\n",
    "runtime = end_time - start_time\n",
    "\n",
    "print(filtered_articles[['PaperTitle', 'Abstract', 'MatchedGeneCount', 'MatchedGenes']])\n",
    "print(f\"Total runtime: {runtime:.2f} seconds\")\n",
    "\n",
    "# Save the filtered result to a file\n",
    "filtered_articles.to_csv(\"filtered_output_with_gene_names_and_counts_full_dataset.csv\", index=False)\n",
    "print(\"Filtered output with matched gene names and counts saved to 'filtered_output_with_gene_names_and_counts_full_dataset.csv'.\")"
   ]
  },
  {
   "cell_type": "code",
   "execution_count": null,
   "id": "92ca6308",
   "metadata": {},
   "outputs": [],
   "source": [
    "# Total number of rows in the original dataset\n",
    "total_articles = len(articles)\n",
    "\n",
    "# Count rows where at least one gene was matched\n",
    "matched_articles = len(articles[articles['MatchedGeneCount'] > 0])\n",
    "\n",
    "# Summarize the distribution of MatchedGeneCount\n",
    "gene_count_summary = articles['MatchedGeneCount'].value_counts().sort_index()\n",
    "\n",
    "# Filter for rows where MatchedGeneCount is between 1 and 20\n",
    "summary_limited = gene_count_summary.loc[1:40]\n",
    "\n",
    "print(f\"Total number of articles in the original dataset: {total_articles}\")\n",
    "print(f\"Number of articles with at least one gene match: {matched_articles}\")\n",
    "print(\"\\nDistribution of MatchedGeneCount (1-40 genes per article):\")\n",
    "print(summary_limited)"
   ]
  }
 ],
 "metadata": {
  "kernelspec": {
   "display_name": "llms",
   "language": "python",
   "name": "llms"
  },
  "language_info": {
   "codemirror_mode": {
    "name": "ipython",
    "version": 3
   },
   "file_extension": ".py",
   "mimetype": "text/x-python",
   "name": "python",
   "nbconvert_exporter": "python",
   "pygments_lexer": "ipython3",
   "version": "3.11.5"
  }
 },
 "nbformat": 4,
 "nbformat_minor": 5
}
