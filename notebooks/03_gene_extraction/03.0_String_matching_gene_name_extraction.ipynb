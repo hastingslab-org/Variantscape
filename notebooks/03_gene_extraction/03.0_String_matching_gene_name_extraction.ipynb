{
 "cells": [
  {
   "cell_type": "markdown",
   "id": "465b9d49",
   "metadata": {},
   "source": [
    "# String matching of Oncomine Genes"
   ]
  },
  {
   "cell_type": "markdown",
   "id": "77f3ca5f",
   "metadata": {},
   "source": [
    "## 1) Install libraries and load datasets"
   ]
  },
  {
   "cell_type": "code",
   "execution_count": 7,
   "id": "1da116d9",
   "metadata": {},
   "outputs": [
    {
     "name": "stdout",
     "output_type": "stream",
     "text": [
      "Success!\n"
     ]
    }
   ],
   "source": [
    "import pandas as pd\n",
    "import os\n",
    "import re\n",
    "import time\n",
    "from tqdm import tqdm\n",
    "import time\n",
    "\n",
    "print(\"Success!\")"
   ]
  },
  {
   "cell_type": "code",
   "execution_count": 13,
   "id": "761c47ab",
   "metadata": {},
   "outputs": [],
   "source": [
    "# Set the working directory and file paths\n",
    "input_directory = \"INPUT_DIRECTORY\"\n",
    "output_directory = \"OUTPUT_DIRECTORY\"\n",
    "articles_file = \"ARTICLE_FILE_OPENALEX.csv\"\n",
    "genes_file = \"GENE_FILE.csv\"\n",
    "\n",
    "# Change the working directory\n",
    "os.chdir(input_directory)\n",
    "print(\"Current Working Directory:\", os.getcwd())"
   ]
  },
  {
   "cell_type": "code",
   "execution_count": 9,
   "id": "9362ed0a",
   "metadata": {},
   "outputs": [],
   "source": [
    "# Load the articles file\n",
    "articles = pd.read_csv(articles_file)\n",
    "\n",
    "# Load the genes file\n",
    "genes = pd.read_csv(genes_file, header=None)\n",
    "gene_list = genes[0].tolist()"
   ]
  },
  {
   "cell_type": "code",
   "execution_count": 10,
   "id": "65d5ab2c",
   "metadata": {
    "scrolled": true
   },
   "outputs": [
    {
     "name": "stdout",
     "output_type": "stream",
     "text": [
      "Current Working Directory: /data/JH/marie/TrendyVariants/Output\n",
      "The articles df contains 2,775,913 rows and 9 columns.\n",
      "The column names in the articles df are:\n",
      "PaperId\n",
      "PaperTitle\n",
      "Citations\n",
      "c\n",
      "Authors\n",
      "Abstract\n",
      "Language\n",
      "PubYear\n",
      "PubDate\n"
     ]
    }
   ],
   "source": [
    "# Change the working directory\n",
    "os.chdir(output_directory)\n",
    "print(\"Current Working Directory:\", os.getcwd())\n",
    "\n",
    "# Get the number of rows and columns\n",
    "num_rows = articles.shape[0]\n",
    "num_columns = articles.shape[1]\n",
    "\n",
    "print(f\"The articles df contains {num_rows:,} rows and {num_columns:,} columns.\")\n",
    "column_names = articles.columns.tolist()\n",
    "\n",
    "print(\"The column names in the articles df are:\")\n",
    "for col in column_names:\n",
    "    print(col)"
   ]
  },
  {
   "cell_type": "markdown",
   "id": "9fc996d5",
   "metadata": {},
   "source": [
    "## 2) Perform string matching"
   ]
  },
  {
   "cell_type": "code",
   "execution_count": 43,
   "id": "3c2a5b64",
   "metadata": {},
   "outputs": [
    {
     "name": "stderr",
     "output_type": "stream",
     "text": [
      "Processing rows: 100%|█████████████████████████████████████████████████████████████████| 2775913/2775913 [2:47:26<00:00, 276.31it/s]\n"
     ]
    },
    {
     "name": "stdout",
     "output_type": "stream",
     "text": [
      "                                                PaperTitle  \\\n",
      "13       Tissue Prior to the Initial Hematoxylin-Eosin ...   \n",
      "14       Detection of urine circulating tumor DNA using...   \n",
      "16       In vitro characterization of some of the anti-...   \n",
      "17       Evaluation of a Novel PLGA-HA-Based Drug Deliv...   \n",
      "30       Network Pharmacology and Molecular Docking Stu...   \n",
      "...                                                    ...   \n",
      "2775813  MYCN-dependent expression of sulfatase-2 regul...   \n",
      "2775836                                         EML4-ALK--   \n",
      "2775837  GLI-IKBKE Requirement In KRAS-InducedPancreati...   \n",
      "2775856        Novel Therapeutic Strategies in Lung Cancer   \n",
      "2775879  Functional analysis of mutations in isocitrate...   \n",
      "\n",
      "                                                  Abstract  MatchedGeneCount  \\\n",
      "13       Small biopsies are used for histologic, immuno...                 1   \n",
      "14       Aim: This study aims to evaluate the feasibili...                 2   \n",
      "16       Worldwide, gastric cancer is considered to be ...                 1   \n",
      "17       Colorectal carcinoma (CRC) is a very important...                 3   \n",
      "30       Strychni Semen, characterized by its bitter ta...                 2   \n",
      "...                                                    ...               ...   \n",
      "2775813  Neuroblastoma (NBL) is the most common type of...                 1   \n",
      "2775836       nonsmall cell lung cancerNSCLC808525-3040-50                 1   \n",
      "2775837  Pancreatic ductal adenocarcinoma (PDAC), one o...                 1   \n",
      "2775856  Lung cancer is the leading cause of cancer-rel...                 3   \n",
      "2775879  The main subject of my thesis is the investiga...                 2   \n",
      "\n",
      "               MatchedGenes  \n",
      "13                     EGFR  \n",
      "14             CTNNB1, TP53  \n",
      "16                     PTEN  \n",
      "17       AKT1, MTOR, PIK3CA  \n",
      "30             ESR1, PRKACA  \n",
      "...                     ...  \n",
      "2775813                MYCN  \n",
      "2775836                 ALK  \n",
      "2775837                KRAS  \n",
      "2775856     ALK, EGFR, KRAS  \n",
      "2775879          IDH1, IDH2  \n",
      "\n",
      "[285722 rows x 4 columns]\n",
      "Total runtime: 10684.10 seconds\n",
      "Filtered output with matched gene names and counts saved to 'filtered_output_with_gene_names_and_counts_full_dataset.csv'.\n"
     ]
    }
   ],
   "source": [
    "######## String matching of genes ########\n",
    "\n",
    "# Start the timer\n",
    "start_time = time.time()\n",
    "\n",
    "# Create a DataFrame with all gene columns set to 0\n",
    "gene_columns_df = pd.DataFrame(0, index=articles.index, columns=gene_list)\n",
    "\n",
    "# Concatenate the gene columns to the original DataFrame\n",
    "articles = pd.concat([articles, gene_columns_df], axis=1)\n",
    "\n",
    "# Perform string matching on \"PaperTitle\" and \"Abstract\"\n",
    "for index, row in tqdm(articles.iterrows(), total=len(articles), desc=\"Processing rows\"):\n",
    "    title = row.get(\"PaperTitle\", \"\")\n",
    "    abstract = row.get(\"Abstract\", \"\")\n",
    "    text = f\"{title} {abstract}\"\n",
    "\n",
    "    for gene in gene_list:\n",
    "        pattern = r'\\b' + re.escape(gene) + r'\\b' \n",
    "        if re.search(pattern, text): \n",
    "            articles.at[index, gene] = 1\n",
    "\n",
    "# Add a column to store gene names where matches are found\n",
    "def find_matching_genes(row):\n",
    "    matched_genes = [gene for gene in gene_list if row[gene] == 1]\n",
    "    return \", \".join(matched_genes)\n",
    "\n",
    "articles['MatchedGenes'] = articles.apply(find_matching_genes, axis=1)\n",
    "\n",
    "# Add a column to count the total number of matched genes\n",
    "articles['MatchedGeneCount'] = articles[gene_list].sum(axis=1)\n",
    "\n",
    "# Filter rows where at least one gene match was found\n",
    "filtered_articles = articles[articles['MatchedGeneCount'] > 0]\n",
    "\n",
    "# Stop the timer and calculate total runtime\n",
    "end_time = time.time()\n",
    "runtime = end_time - start_time\n",
    "\n",
    "print(filtered_articles[['PaperTitle', 'Abstract', 'MatchedGeneCount', 'MatchedGenes']])\n",
    "print(f\"Total runtime: {runtime:.2f} seconds\")\n",
    "\n",
    "# Save the filtered result to a file\n",
    "filtered_articles.to_csv(\"filtered_output_with_gene_names_and_counts_full_dataset.csv\", index=False)\n",
    "print(\"Filtered output with matched gene names and counts saved to 'filtered_output_with_gene_names_and_counts_full_dataset.csv'.\")"
   ]
  },
  {
   "cell_type": "code",
   "execution_count": 46,
   "id": "92ca6308",
   "metadata": {
    "collapsed": true
   },
   "outputs": [
    {
     "name": "stdout",
     "output_type": "stream",
     "text": [
      "Total number of articles in the original dataset: 2775913\n",
      "Number of articles with at least one gene match: 285722\n",
      "\n",
      "Distribution of MatchedGeneCount (1-40 genes per article):\n",
      "MatchedGeneCount\n",
      "1     192248\n",
      "2      51841\n",
      "3      18424\n",
      "4       9300\n",
      "5       4823\n",
      "6       2764\n",
      "7       1888\n",
      "8       1317\n",
      "9        851\n",
      "10       624\n",
      "11       441\n",
      "12       298\n",
      "13       240\n",
      "14       183\n",
      "15       112\n",
      "16       106\n",
      "17        79\n",
      "18        51\n",
      "19        32\n",
      "20        13\n",
      "21        17\n",
      "22        17\n",
      "23        11\n",
      "24         6\n",
      "25         3\n",
      "26         2\n",
      "27         2\n",
      "28         6\n",
      "29         4\n",
      "30         1\n",
      "31         4\n",
      "32         1\n",
      "33         4\n",
      "36         1\n",
      "38         1\n",
      "Name: count, dtype: int64\n"
     ]
    }
   ],
   "source": [
    "# Total number of rows in the original dataset\n",
    "total_articles = len(articles)\n",
    "\n",
    "# Count rows where at least one gene was matched\n",
    "matched_articles = len(articles[articles['MatchedGeneCount'] > 0])\n",
    "\n",
    "# Summarize the distribution of MatchedGeneCount\n",
    "gene_count_summary = articles['MatchedGeneCount'].value_counts().sort_index()\n",
    "\n",
    "# Filter for rows where MatchedGeneCount is between 1 and 20\n",
    "summary_limited = gene_count_summary.loc[1:40]\n",
    "\n",
    "print(f\"Total number of articles in the original dataset: {total_articles}\")\n",
    "print(f\"Number of articles with at least one gene match: {matched_articles}\")\n",
    "print(\"\\nDistribution of MatchedGeneCount (1-40 genes per article):\")\n",
    "print(summary_limited)"
   ]
  }
 ],
 "metadata": {
  "kernelspec": {
   "display_name": "llms",
   "language": "python",
   "name": "llms"
  },
  "language_info": {
   "codemirror_mode": {
    "name": "ipython",
    "version": 3
   },
   "file_extension": ".py",
   "mimetype": "text/x-python",
   "name": "python",
   "nbconvert_exporter": "python",
   "pygments_lexer": "ipython3",
   "version": "3.11.5"
  }
 },
 "nbformat": 4,
 "nbformat_minor": 5
}
